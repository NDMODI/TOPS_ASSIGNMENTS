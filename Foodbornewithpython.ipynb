{
 "cells": [
  {
   "cell_type": "code",
   "execution_count": 1,
   "id": "c31f81e3",
   "metadata": {},
   "outputs": [],
   "source": [
    "import numpy as np\n",
    "import scipy.stats\n",
    "import pandas as pd\n",
    "import matplotlib.pyplot as plt\n",
    "import seaborn as sns"
   ]
  },
  {
   "cell_type": "code",
   "execution_count": 2,
   "id": "622aef57",
   "metadata": {},
   "outputs": [],
   "source": [
    "df = pd.read_csv(\"outbreaks.csv\")"
   ]
  },
  {
   "cell_type": "code",
   "execution_count": 3,
   "id": "029d4502",
   "metadata": {},
   "outputs": [
    {
     "data": {
      "text/plain": [
       "(15145, 12)"
      ]
     },
     "execution_count": 3,
     "metadata": {},
     "output_type": "execute_result"
    }
   ],
   "source": [
    "df.shape"
   ]
  },
  {
   "cell_type": "code",
   "execution_count": 4,
   "id": "520ca7e0",
   "metadata": {},
   "outputs": [
    {
     "data": {
      "text/html": [
       "<div>\n",
       "<style scoped>\n",
       "    .dataframe tbody tr th:only-of-type {\n",
       "        vertical-align: middle;\n",
       "    }\n",
       "\n",
       "    .dataframe tbody tr th {\n",
       "        vertical-align: top;\n",
       "    }\n",
       "\n",
       "    .dataframe thead th {\n",
       "        text-align: right;\n",
       "    }\n",
       "</style>\n",
       "<table border=\"1\" class=\"dataframe\">\n",
       "  <thead>\n",
       "    <tr style=\"text-align: right;\">\n",
       "      <th></th>\n",
       "      <th>Year</th>\n",
       "      <th>Month</th>\n",
       "      <th>State</th>\n",
       "      <th>Location</th>\n",
       "      <th>Food</th>\n",
       "      <th>Ingredient</th>\n",
       "      <th>Species</th>\n",
       "      <th>Serotype</th>\n",
       "      <th>Status</th>\n",
       "      <th>Illnesses</th>\n",
       "      <th>Hospitalizations</th>\n",
       "      <th>Fatalities</th>\n",
       "    </tr>\n",
       "  </thead>\n",
       "  <tbody>\n",
       "    <tr>\n",
       "      <th>0</th>\n",
       "      <td>1998</td>\n",
       "      <td>January</td>\n",
       "      <td>California</td>\n",
       "      <td>Restaurant</td>\n",
       "      <td>Unkown</td>\n",
       "      <td>NaN</td>\n",
       "      <td>Unkown</td>\n",
       "      <td>Unkown</td>\n",
       "      <td>Pending</td>\n",
       "      <td>20</td>\n",
       "      <td>0</td>\n",
       "      <td>0</td>\n",
       "    </tr>\n",
       "    <tr>\n",
       "      <th>1</th>\n",
       "      <td>1998</td>\n",
       "      <td>January</td>\n",
       "      <td>California</td>\n",
       "      <td>Unkown</td>\n",
       "      <td>Custard</td>\n",
       "      <td>NaN</td>\n",
       "      <td>Unkown</td>\n",
       "      <td>Unkown</td>\n",
       "      <td>Pending</td>\n",
       "      <td>112</td>\n",
       "      <td>0</td>\n",
       "      <td>0</td>\n",
       "    </tr>\n",
       "    <tr>\n",
       "      <th>2</th>\n",
       "      <td>1998</td>\n",
       "      <td>January</td>\n",
       "      <td>California</td>\n",
       "      <td>Restaurant</td>\n",
       "      <td>Unkown</td>\n",
       "      <td>NaN</td>\n",
       "      <td>Unkown</td>\n",
       "      <td>Unkown</td>\n",
       "      <td>Pending</td>\n",
       "      <td>35</td>\n",
       "      <td>0</td>\n",
       "      <td>0</td>\n",
       "    </tr>\n",
       "    <tr>\n",
       "      <th>3</th>\n",
       "      <td>1998</td>\n",
       "      <td>January</td>\n",
       "      <td>California</td>\n",
       "      <td>Restaurant</td>\n",
       "      <td>Fish, Ahi</td>\n",
       "      <td>NaN</td>\n",
       "      <td>Scombroid toxin</td>\n",
       "      <td>Unkown</td>\n",
       "      <td>Confirmed</td>\n",
       "      <td>4</td>\n",
       "      <td>0</td>\n",
       "      <td>0</td>\n",
       "    </tr>\n",
       "    <tr>\n",
       "      <th>4</th>\n",
       "      <td>1998</td>\n",
       "      <td>January</td>\n",
       "      <td>California</td>\n",
       "      <td>Private Home/Residence</td>\n",
       "      <td>Lasagna, Unspecified; Eggs, Other</td>\n",
       "      <td>NaN</td>\n",
       "      <td>Salmonella enterica</td>\n",
       "      <td>Enteritidis</td>\n",
       "      <td>Confirmed</td>\n",
       "      <td>26</td>\n",
       "      <td>3</td>\n",
       "      <td>0</td>\n",
       "    </tr>\n",
       "  </tbody>\n",
       "</table>\n",
       "</div>"
      ],
      "text/plain": [
       "   Year    Month       State                Location  \\\n",
       "0  1998  January  California              Restaurant   \n",
       "1  1998  January  California                  Unkown   \n",
       "2  1998  January  California              Restaurant   \n",
       "3  1998  January  California              Restaurant   \n",
       "4  1998  January  California  Private Home/Residence   \n",
       "\n",
       "                                Food Ingredient              Species  \\\n",
       "0                             Unkown        NaN               Unkown   \n",
       "1                            Custard        NaN               Unkown   \n",
       "2                             Unkown        NaN               Unkown   \n",
       "3                          Fish, Ahi        NaN      Scombroid toxin   \n",
       "4  Lasagna, Unspecified; Eggs, Other        NaN  Salmonella enterica   \n",
       "\n",
       "      Serotype     Status  Illnesses  Hospitalizations  Fatalities  \n",
       "0       Unkown    Pending         20                 0           0  \n",
       "1       Unkown    Pending        112                 0           0  \n",
       "2       Unkown    Pending         35                 0           0  \n",
       "3       Unkown  Confirmed          4                 0           0  \n",
       "4  Enteritidis  Confirmed         26                 3           0  "
      ]
     },
     "execution_count": 4,
     "metadata": {},
     "output_type": "execute_result"
    }
   ],
   "source": [
    "df.head()"
   ]
  },
  {
   "cell_type": "code",
   "execution_count": 5,
   "id": "a7cde160",
   "metadata": {},
   "outputs": [],
   "source": [
    "col=df.columns.tolist()"
   ]
  },
  {
   "cell_type": "code",
   "execution_count": 6,
   "id": "7494cfd2",
   "metadata": {},
   "outputs": [
    {
     "data": {
      "text/plain": [
       "['Year',\n",
       " 'Month',\n",
       " 'State',\n",
       " 'Location',\n",
       " 'Food',\n",
       " 'Ingredient',\n",
       " 'Species',\n",
       " 'Serotype',\n",
       " 'Status',\n",
       " 'Illnesses',\n",
       " 'Hospitalizations',\n",
       " 'Fatalities']"
      ]
     },
     "execution_count": 6,
     "metadata": {},
     "output_type": "execute_result"
    }
   ],
   "source": [
    "col"
   ]
  },
  {
   "cell_type": "code",
   "execution_count": 7,
   "id": "92cff62c",
   "metadata": {},
   "outputs": [
    {
     "name": "stdout",
     "output_type": "stream",
     "text": [
      "<class 'pandas.core.frame.DataFrame'>\n",
      "RangeIndex: 15145 entries, 0 to 15144\n",
      "Data columns (total 12 columns):\n",
      " #   Column            Non-Null Count  Dtype \n",
      "---  ------            --------------  ----- \n",
      " 0   Year              15145 non-null  int64 \n",
      " 1   Month             15145 non-null  object\n",
      " 2   State             15145 non-null  object\n",
      " 3   Location          15145 non-null  object\n",
      " 4   Food              15145 non-null  object\n",
      " 5   Ingredient        1670 non-null   object\n",
      " 6   Species           15145 non-null  object\n",
      " 7   Serotype          15145 non-null  object\n",
      " 8   Status            15145 non-null  object\n",
      " 9   Illnesses         15145 non-null  int64 \n",
      " 10  Hospitalizations  15145 non-null  int64 \n",
      " 11  Fatalities        15145 non-null  int64 \n",
      "dtypes: int64(4), object(8)\n",
      "memory usage: 1.4+ MB\n"
     ]
    }
   ],
   "source": [
    "df.info()"
   ]
  },
  {
   "cell_type": "code",
   "execution_count": 8,
   "id": "8d770e6b",
   "metadata": {},
   "outputs": [],
   "source": [
    "cats = list(df.select_dtypes(include=['object']).columns)\n",
    "nums = list(df.select_dtypes(exclude=['object']).columns)"
   ]
  },
  {
   "cell_type": "code",
   "execution_count": 9,
   "id": "51fd58f5",
   "metadata": {},
   "outputs": [
    {
     "name": "stdout",
     "output_type": "stream",
     "text": [
      "categorical variables:  ['Month', 'State', 'Location', 'Food', 'Ingredient', 'Species', 'Serotype', 'Status']\n",
      "numerical variables:  ['Year', 'Illnesses', 'Hospitalizations', 'Fatalities']\n"
     ]
    }
   ],
   "source": [
    "print(f'categorical variables:  {cats}')\n",
    "print(f'numerical variables:  {nums}')"
   ]
  },
  {
   "cell_type": "code",
   "execution_count": 10,
   "id": "025213a3",
   "metadata": {},
   "outputs": [
    {
     "data": {
      "text/plain": [
       "Year                  18\n",
       "Month                 12\n",
       "State                 55\n",
       "Location             152\n",
       "Food                2638\n",
       "Ingredient           359\n",
       "Species              190\n",
       "Serotype             221\n",
       "Status                 4\n",
       "Illnesses            279\n",
       "Hospitalizations      60\n",
       "Fatalities            11\n",
       "dtype: int64"
      ]
     },
     "execution_count": 10,
     "metadata": {},
     "output_type": "execute_result"
    }
   ],
   "source": [
    "df.nunique(axis=0)"
   ]
  },
  {
   "cell_type": "code",
   "execution_count": 11,
   "id": "9d78bc29",
   "metadata": {},
   "outputs": [
    {
     "name": "stdout",
     "output_type": "stream",
     "text": [
      "categorical variables:  ['Month', 'State', 'Location', 'Food', 'Ingredient', 'Species', 'Serotype', 'Status']\n",
      "numerical variables:  ['Year', 'Illnesses', 'Hospitalizations', 'Fatalities']\n"
     ]
    }
   ],
   "source": [
    "cats = list(df.select_dtypes(include=['object']).columns)\n",
    "nums = list(df.select_dtypes(exclude=['object']).columns)\n",
    "print(f'categorical variables:  {cats}')\n",
    "print(f'numerical variables:  {nums}')"
   ]
  },
  {
   "cell_type": "code",
   "execution_count": 12,
   "id": "f07dbf8c",
   "metadata": {},
   "outputs": [],
   "source": [
    "cats.extend(['Year'])\n",
    "nums.remove('Year')"
   ]
  },
  {
   "cell_type": "code",
   "execution_count": 13,
   "id": "4b07cf7a",
   "metadata": {},
   "outputs": [
    {
     "name": "stdout",
     "output_type": "stream",
     "text": [
      "categorical variables:  ['Month', 'State', 'Location', 'Food', 'Ingredient', 'Species', 'Serotype', 'Status', 'Year']\n",
      "numerical variables:  ['Illnesses', 'Hospitalizations', 'Fatalities']\n"
     ]
    }
   ],
   "source": [
    "print(f'categorical variables:  {cats}')\n",
    "print(f'numerical variables:  {nums}')"
   ]
  },
  {
   "cell_type": "code",
   "execution_count": 14,
   "id": "c24ad47b",
   "metadata": {},
   "outputs": [
    {
     "data": {
      "text/html": [
       "<div>\n",
       "<style scoped>\n",
       "    .dataframe tbody tr th:only-of-type {\n",
       "        vertical-align: middle;\n",
       "    }\n",
       "\n",
       "    .dataframe tbody tr th {\n",
       "        vertical-align: top;\n",
       "    }\n",
       "\n",
       "    .dataframe thead th {\n",
       "        text-align: right;\n",
       "    }\n",
       "</style>\n",
       "<table border=\"1\" class=\"dataframe\">\n",
       "  <thead>\n",
       "    <tr style=\"text-align: right;\">\n",
       "      <th></th>\n",
       "      <th>Year</th>\n",
       "      <th>Month</th>\n",
       "      <th>State</th>\n",
       "      <th>Location</th>\n",
       "      <th>Food</th>\n",
       "      <th>Ingredient</th>\n",
       "      <th>Species</th>\n",
       "      <th>Serotype</th>\n",
       "      <th>Status</th>\n",
       "      <th>Illnesses</th>\n",
       "      <th>Hospitalizations</th>\n",
       "      <th>Fatalities</th>\n",
       "    </tr>\n",
       "  </thead>\n",
       "  <tbody>\n",
       "    <tr>\n",
       "      <th>0</th>\n",
       "      <td>False</td>\n",
       "      <td>False</td>\n",
       "      <td>False</td>\n",
       "      <td>False</td>\n",
       "      <td>False</td>\n",
       "      <td>True</td>\n",
       "      <td>False</td>\n",
       "      <td>False</td>\n",
       "      <td>False</td>\n",
       "      <td>False</td>\n",
       "      <td>False</td>\n",
       "      <td>False</td>\n",
       "    </tr>\n",
       "    <tr>\n",
       "      <th>1</th>\n",
       "      <td>False</td>\n",
       "      <td>False</td>\n",
       "      <td>False</td>\n",
       "      <td>False</td>\n",
       "      <td>False</td>\n",
       "      <td>True</td>\n",
       "      <td>False</td>\n",
       "      <td>False</td>\n",
       "      <td>False</td>\n",
       "      <td>False</td>\n",
       "      <td>False</td>\n",
       "      <td>False</td>\n",
       "    </tr>\n",
       "    <tr>\n",
       "      <th>2</th>\n",
       "      <td>False</td>\n",
       "      <td>False</td>\n",
       "      <td>False</td>\n",
       "      <td>False</td>\n",
       "      <td>False</td>\n",
       "      <td>True</td>\n",
       "      <td>False</td>\n",
       "      <td>False</td>\n",
       "      <td>False</td>\n",
       "      <td>False</td>\n",
       "      <td>False</td>\n",
       "      <td>False</td>\n",
       "    </tr>\n",
       "    <tr>\n",
       "      <th>3</th>\n",
       "      <td>False</td>\n",
       "      <td>False</td>\n",
       "      <td>False</td>\n",
       "      <td>False</td>\n",
       "      <td>False</td>\n",
       "      <td>True</td>\n",
       "      <td>False</td>\n",
       "      <td>False</td>\n",
       "      <td>False</td>\n",
       "      <td>False</td>\n",
       "      <td>False</td>\n",
       "      <td>False</td>\n",
       "    </tr>\n",
       "    <tr>\n",
       "      <th>4</th>\n",
       "      <td>False</td>\n",
       "      <td>False</td>\n",
       "      <td>False</td>\n",
       "      <td>False</td>\n",
       "      <td>False</td>\n",
       "      <td>True</td>\n",
       "      <td>False</td>\n",
       "      <td>False</td>\n",
       "      <td>False</td>\n",
       "      <td>False</td>\n",
       "      <td>False</td>\n",
       "      <td>False</td>\n",
       "    </tr>\n",
       "    <tr>\n",
       "      <th>...</th>\n",
       "      <td>...</td>\n",
       "      <td>...</td>\n",
       "      <td>...</td>\n",
       "      <td>...</td>\n",
       "      <td>...</td>\n",
       "      <td>...</td>\n",
       "      <td>...</td>\n",
       "      <td>...</td>\n",
       "      <td>...</td>\n",
       "      <td>...</td>\n",
       "      <td>...</td>\n",
       "      <td>...</td>\n",
       "    </tr>\n",
       "    <tr>\n",
       "      <th>15140</th>\n",
       "      <td>False</td>\n",
       "      <td>False</td>\n",
       "      <td>False</td>\n",
       "      <td>False</td>\n",
       "      <td>False</td>\n",
       "      <td>True</td>\n",
       "      <td>False</td>\n",
       "      <td>False</td>\n",
       "      <td>False</td>\n",
       "      <td>False</td>\n",
       "      <td>False</td>\n",
       "      <td>False</td>\n",
       "    </tr>\n",
       "    <tr>\n",
       "      <th>15141</th>\n",
       "      <td>False</td>\n",
       "      <td>False</td>\n",
       "      <td>False</td>\n",
       "      <td>False</td>\n",
       "      <td>False</td>\n",
       "      <td>True</td>\n",
       "      <td>False</td>\n",
       "      <td>False</td>\n",
       "      <td>False</td>\n",
       "      <td>False</td>\n",
       "      <td>False</td>\n",
       "      <td>False</td>\n",
       "    </tr>\n",
       "    <tr>\n",
       "      <th>15142</th>\n",
       "      <td>False</td>\n",
       "      <td>False</td>\n",
       "      <td>False</td>\n",
       "      <td>False</td>\n",
       "      <td>False</td>\n",
       "      <td>True</td>\n",
       "      <td>False</td>\n",
       "      <td>False</td>\n",
       "      <td>False</td>\n",
       "      <td>False</td>\n",
       "      <td>False</td>\n",
       "      <td>False</td>\n",
       "    </tr>\n",
       "    <tr>\n",
       "      <th>15143</th>\n",
       "      <td>False</td>\n",
       "      <td>False</td>\n",
       "      <td>False</td>\n",
       "      <td>False</td>\n",
       "      <td>False</td>\n",
       "      <td>True</td>\n",
       "      <td>False</td>\n",
       "      <td>False</td>\n",
       "      <td>False</td>\n",
       "      <td>False</td>\n",
       "      <td>False</td>\n",
       "      <td>False</td>\n",
       "    </tr>\n",
       "    <tr>\n",
       "      <th>15144</th>\n",
       "      <td>False</td>\n",
       "      <td>False</td>\n",
       "      <td>False</td>\n",
       "      <td>False</td>\n",
       "      <td>False</td>\n",
       "      <td>True</td>\n",
       "      <td>False</td>\n",
       "      <td>False</td>\n",
       "      <td>False</td>\n",
       "      <td>False</td>\n",
       "      <td>False</td>\n",
       "      <td>False</td>\n",
       "    </tr>\n",
       "  </tbody>\n",
       "</table>\n",
       "<p>15145 rows × 12 columns</p>\n",
       "</div>"
      ],
      "text/plain": [
       "        Year  Month  State  Location   Food  Ingredient  Species  Serotype  \\\n",
       "0      False  False  False     False  False        True    False     False   \n",
       "1      False  False  False     False  False        True    False     False   \n",
       "2      False  False  False     False  False        True    False     False   \n",
       "3      False  False  False     False  False        True    False     False   \n",
       "4      False  False  False     False  False        True    False     False   \n",
       "...      ...    ...    ...       ...    ...         ...      ...       ...   \n",
       "15140  False  False  False     False  False        True    False     False   \n",
       "15141  False  False  False     False  False        True    False     False   \n",
       "15142  False  False  False     False  False        True    False     False   \n",
       "15143  False  False  False     False  False        True    False     False   \n",
       "15144  False  False  False     False  False        True    False     False   \n",
       "\n",
       "       Status  Illnesses  Hospitalizations  Fatalities  \n",
       "0       False      False             False       False  \n",
       "1       False      False             False       False  \n",
       "2       False      False             False       False  \n",
       "3       False      False             False       False  \n",
       "4       False      False             False       False  \n",
       "...       ...        ...               ...         ...  \n",
       "15140   False      False             False       False  \n",
       "15141   False      False             False       False  \n",
       "15142   False      False             False       False  \n",
       "15143   False      False             False       False  \n",
       "15144   False      False             False       False  \n",
       "\n",
       "[15145 rows x 12 columns]"
      ]
     },
     "execution_count": 14,
     "metadata": {},
     "output_type": "execute_result"
    }
   ],
   "source": [
    "df.isna()"
   ]
  },
  {
   "cell_type": "code",
   "execution_count": 15,
   "id": "cd241ae0",
   "metadata": {},
   "outputs": [
    {
     "data": {
      "text/plain": [
       "Year                    0\n",
       "Month                   0\n",
       "State                   0\n",
       "Location                0\n",
       "Food                    0\n",
       "Ingredient          13475\n",
       "Species                 0\n",
       "Serotype                0\n",
       "Status                  0\n",
       "Illnesses               0\n",
       "Hospitalizations        0\n",
       "Fatalities              0\n",
       "dtype: int64"
      ]
     },
     "execution_count": 15,
     "metadata": {},
     "output_type": "execute_result"
    }
   ],
   "source": [
    "df.isna().sum()"
   ]
  },
  {
   "cell_type": "code",
   "execution_count": 16,
   "id": "a08b677d",
   "metadata": {},
   "outputs": [
    {
     "data": {
      "text/html": [
       "<div>\n",
       "<style scoped>\n",
       "    .dataframe tbody tr th:only-of-type {\n",
       "        vertical-align: middle;\n",
       "    }\n",
       "\n",
       "    .dataframe tbody tr th {\n",
       "        vertical-align: top;\n",
       "    }\n",
       "\n",
       "    .dataframe thead th {\n",
       "        text-align: right;\n",
       "    }\n",
       "</style>\n",
       "<table border=\"1\" class=\"dataframe\">\n",
       "  <thead>\n",
       "    <tr style=\"text-align: right;\">\n",
       "      <th></th>\n",
       "      <th>Year</th>\n",
       "      <th>Illnesses</th>\n",
       "      <th>Hospitalizations</th>\n",
       "      <th>Fatalities</th>\n",
       "    </tr>\n",
       "  </thead>\n",
       "  <tbody>\n",
       "    <tr>\n",
       "      <th>count</th>\n",
       "      <td>15145.000000</td>\n",
       "      <td>15145.000000</td>\n",
       "      <td>15145.000000</td>\n",
       "      <td>15145.000000</td>\n",
       "    </tr>\n",
       "    <tr>\n",
       "      <th>mean</th>\n",
       "      <td>2006.463915</td>\n",
       "      <td>19.567184</td>\n",
       "      <td>0.912644</td>\n",
       "      <td>0.020667</td>\n",
       "    </tr>\n",
       "    <tr>\n",
       "      <th>std</th>\n",
       "      <td>5.163815</td>\n",
       "      <td>47.526043</td>\n",
       "      <td>5.325507</td>\n",
       "      <td>0.381018</td>\n",
       "    </tr>\n",
       "    <tr>\n",
       "      <th>min</th>\n",
       "      <td>1998.000000</td>\n",
       "      <td>2.000000</td>\n",
       "      <td>0.000000</td>\n",
       "      <td>0.000000</td>\n",
       "    </tr>\n",
       "    <tr>\n",
       "      <th>25%</th>\n",
       "      <td>2002.000000</td>\n",
       "      <td>4.000000</td>\n",
       "      <td>0.000000</td>\n",
       "      <td>0.000000</td>\n",
       "    </tr>\n",
       "    <tr>\n",
       "      <th>50%</th>\n",
       "      <td>2006.000000</td>\n",
       "      <td>8.000000</td>\n",
       "      <td>0.000000</td>\n",
       "      <td>0.000000</td>\n",
       "    </tr>\n",
       "    <tr>\n",
       "      <th>75%</th>\n",
       "      <td>2011.000000</td>\n",
       "      <td>19.000000</td>\n",
       "      <td>0.000000</td>\n",
       "      <td>0.000000</td>\n",
       "    </tr>\n",
       "    <tr>\n",
       "      <th>max</th>\n",
       "      <td>2015.000000</td>\n",
       "      <td>1644.000000</td>\n",
       "      <td>308.000000</td>\n",
       "      <td>33.000000</td>\n",
       "    </tr>\n",
       "  </tbody>\n",
       "</table>\n",
       "</div>"
      ],
      "text/plain": [
       "               Year     Illnesses  Hospitalizations    Fatalities\n",
       "count  15145.000000  15145.000000      15145.000000  15145.000000\n",
       "mean    2006.463915     19.567184          0.912644      0.020667\n",
       "std        5.163815     47.526043          5.325507      0.381018\n",
       "min     1998.000000      2.000000          0.000000      0.000000\n",
       "25%     2002.000000      4.000000          0.000000      0.000000\n",
       "50%     2006.000000      8.000000          0.000000      0.000000\n",
       "75%     2011.000000     19.000000          0.000000      0.000000\n",
       "max     2015.000000   1644.000000        308.000000     33.000000"
      ]
     },
     "execution_count": 16,
     "metadata": {},
     "output_type": "execute_result"
    }
   ],
   "source": [
    "df.describe()"
   ]
  },
  {
   "cell_type": "code",
   "execution_count": 17,
   "id": "279a4480",
   "metadata": {},
   "outputs": [
    {
     "name": "stdout",
     "output_type": "stream",
     "text": [
      "                      Year  Illnesses  Hospitalizations  Fatalities\n",
      "Year              1.000000  -0.031677          0.022585    0.005229\n",
      "Illnesses        -0.031677   1.000000          0.451003    0.103254\n",
      "Hospitalizations  0.022585   0.451003          1.000000    0.423716\n",
      "Fatalities        0.005229   0.103254          0.423716    1.000000\n"
     ]
    }
   ],
   "source": [
    "correlation_matrix = df.corr(numeric_only=True)\n",
    "print(correlation_matrix)"
   ]
  },
  {
   "cell_type": "code",
   "execution_count": 18,
   "id": "a157c1d9",
   "metadata": {},
   "outputs": [
    {
     "data": {
      "text/plain": [
       "2"
      ]
     },
     "execution_count": 18,
     "metadata": {},
     "output_type": "execute_result"
    }
   ],
   "source": [
    "minValue = df['Illnesses'].min()\n",
    "minValue"
   ]
  },
  {
   "cell_type": "code",
   "execution_count": 19,
   "id": "ba9dfe71",
   "metadata": {},
   "outputs": [
    {
     "data": {
      "text/plain": [
       "0"
      ]
     },
     "execution_count": 19,
     "metadata": {},
     "output_type": "execute_result"
    }
   ],
   "source": [
    "minValue2 = df['Hospitalizations'].min()\n",
    "minValue2"
   ]
  },
  {
   "cell_type": "code",
   "execution_count": 20,
   "id": "9820f1a3",
   "metadata": {},
   "outputs": [
    {
     "data": {
      "text/plain": [
       "0"
      ]
     },
     "execution_count": 20,
     "metadata": {},
     "output_type": "execute_result"
    }
   ],
   "source": [
    "minValue3 = df['Fatalities'].min()\n",
    "minValue3"
   ]
  },
  {
   "cell_type": "code",
   "execution_count": 21,
   "id": "f3e824c3",
   "metadata": {},
   "outputs": [
    {
     "name": "stderr",
     "output_type": "stream",
     "text": [
      "C:\\Users\\Dilip\\AppData\\Local\\Temp\\ipykernel_6664\\3656653379.py:1: FutureWarning: The default value of numeric_only in DataFrame.quantile is deprecated. In a future version, it will default to False. Select only valid columns or specify the value of numeric_only to silence this warning.\n",
      "  df.quantile(0.25)\n"
     ]
    },
    {
     "data": {
      "text/plain": [
       "Year                2002.0\n",
       "Illnesses              4.0\n",
       "Hospitalizations       0.0\n",
       "Fatalities             0.0\n",
       "Name: 0.25, dtype: float64"
      ]
     },
     "execution_count": 21,
     "metadata": {},
     "output_type": "execute_result"
    }
   ],
   "source": [
    "df.quantile(0.25)"
   ]
  },
  {
   "cell_type": "code",
   "execution_count": 22,
   "id": "6c6a200a",
   "metadata": {},
   "outputs": [
    {
     "name": "stderr",
     "output_type": "stream",
     "text": [
      "C:\\Users\\Dilip\\AppData\\Local\\Temp\\ipykernel_6664\\1793688606.py:1: FutureWarning: The default value of numeric_only in DataFrame.quantile is deprecated. In a future version, it will default to False. Select only valid columns or specify the value of numeric_only to silence this warning.\n",
      "  df.quantile(0.5)\n"
     ]
    },
    {
     "data": {
      "text/plain": [
       "Year                2006.0\n",
       "Illnesses              8.0\n",
       "Hospitalizations       0.0\n",
       "Fatalities             0.0\n",
       "Name: 0.5, dtype: float64"
      ]
     },
     "execution_count": 22,
     "metadata": {},
     "output_type": "execute_result"
    }
   ],
   "source": [
    "df.quantile(0.5)"
   ]
  },
  {
   "cell_type": "code",
   "execution_count": 23,
   "id": "f0e75cdf",
   "metadata": {},
   "outputs": [
    {
     "name": "stderr",
     "output_type": "stream",
     "text": [
      "C:\\Users\\Dilip\\AppData\\Local\\Temp\\ipykernel_6664\\3799946287.py:1: FutureWarning: The default value of numeric_only in DataFrame.quantile is deprecated. In a future version, it will default to False. Select only valid columns or specify the value of numeric_only to silence this warning.\n",
      "  df.quantile(0.75)\n"
     ]
    },
    {
     "data": {
      "text/plain": [
       "Year                2011.0\n",
       "Illnesses             19.0\n",
       "Hospitalizations       0.0\n",
       "Fatalities             0.0\n",
       "Name: 0.75, dtype: float64"
      ]
     },
     "execution_count": 23,
     "metadata": {},
     "output_type": "execute_result"
    }
   ],
   "source": [
    "df.quantile(0.75)"
   ]
  },
  {
   "cell_type": "code",
   "execution_count": 24,
   "id": "933ab37c",
   "metadata": {},
   "outputs": [
    {
     "data": {
      "image/png": "[encoded data removed]",
      "text/plain": [
       "<Figure size 640x480 with 1 Axes>"
      ]
     },
     "metadata": {},
     "output_type": "display_data"
    }
   ],
   "source": [
    "plt.scatter(df['Illnesses'], df['Hospitalizations'])\n",
    "plt.xlabel('Illnesses')\n",
    "plt.ylabel('Hospitalizations')\n",
    "plt.title('Scatter Plot of Illnesses vs Hospitalizations')\n",
    "plt.show()"
   ]
  },
  {
   "cell_type": "code",
   "execution_count": 25,
   "id": "c5577a50",
   "metadata": {},
   "outputs": [
    {
     "data": {
      "image/png": "[encoded data removed]",
      "text/plain": [
       "<Figure size 640x480 with 1 Axes>"
      ]
     },
     "metadata": {},
     "output_type": "display_data"
    }
   ],
   "source": [
    "plt.scatter(df['Illnesses'], df['Fatalities'])\n",
    "plt.xlabel('Illnesses')\n",
    "plt.ylabel('Fatalities')\n",
    "plt.title('Scatter Plot of Illnesses vs Fatalities')\n",
    "plt.show()"
   ]
  },
  {
   "cell_type": "code",
   "execution_count": 26,
   "id": "679fcdf7",
   "metadata": {},
   "outputs": [
    {
     "data": {
      "image/png": "[encoded data removed]",
      "text/plain": [
       "<Figure size 1000x600 with 1 Axes>"
      ]
     },
     "metadata": {},
     "output_type": "display_data"
    }
   ],
   "source": [
    "plt.figure(figsize=(10, 6))\n",
    "sns.scatterplot(x='Illnesses', y='Fatalities', data=df)\n",
    "plt.title('Relationship between Illnesses and Fatalities')\n",
    "plt.xlabel('Number of Illnesses')\n",
    "plt.ylabel('Number Fatalities')\n",
    "plt.show()"
   ]
  },
  {
   "cell_type": "code",
   "execution_count": 27,
   "id": "9187b6c4",
   "metadata": {},
   "outputs": [
    {
     "data": {
      "text/plain": [
       "Unkown                                                           4701\n",
       "Norovirus genogroup I                                            2187\n",
       "Salmonella enterica                                              1943\n",
       "Norovirus genogroup II                                           1332\n",
       "Norovirus unknown                                                 714\n",
       "                                                                 ... \n",
       "Salmonella enterica; Campylobacter jejuni; Campylobacter coli       1\n",
       "Norovirus genogroup II; Adenovirus                                  1\n",
       "Salmonella enterica; Norovirus genogroup I                          1\n",
       "Campylobacter jejuni; Campylobacter other                           1\n",
       "Shigella sonnei; Campylobacter jejuni                               1\n",
       "Name: Species, Length: 190, dtype: int64"
      ]
     },
     "execution_count": 27,
     "metadata": {},
     "output_type": "execute_result"
    }
   ],
   "source": [
    "df['Species'].value_counts()"
   ]
  },
  {
   "cell_type": "code",
   "execution_count": 28,
   "id": "f50b6b81",
   "metadata": {},
   "outputs": [
    {
     "data": {
      "text/plain": [
       "Chicken                 163\n",
       "Fin Fish                152\n",
       "Beef                    100\n",
       "Pork                    100\n",
       "Egg                      98\n",
       "                       ... \n",
       "Lettuce; Turkey           1\n",
       "Mexican Style Cheese      1\n",
       "Pepper, Ground            1\n",
       "Carrots                   1\n",
       "Zucchini                  1\n",
       "Name: Ingredient, Length: 359, dtype: int64"
      ]
     },
     "execution_count": 28,
     "metadata": {},
     "output_type": "execute_result"
    }
   ],
   "source": [
    "df['Ingredient'].value_counts()"
   ]
  },
  {
   "cell_type": "code",
   "execution_count": 29,
   "id": "81aaca1c",
   "metadata": {},
   "outputs": [
    {
     "data": {
      "text/plain": [
       "Unkown                                    7472\n",
       "Oysters, Raw                               129\n",
       "Multiple Foods                             121\n",
       "Salad, Unspecified                          91\n",
       "Ground Beef, Hamburger                      70\n",
       "                                          ... \n",
       "Pizza, Meat; Pizza, Vegetable                1\n",
       "Salsa, Unspecified; Guacamole                1\n",
       "Banana, Unspecified                          1\n",
       "Pasta Salad; Chicken Salad; Tuna Salad       1\n",
       "Cookies, Chocolate Chip                      1\n",
       "Name: Food, Length: 2638, dtype: int64"
      ]
     },
     "execution_count": 29,
     "metadata": {},
     "output_type": "execute_result"
    }
   ],
   "source": [
    "df['Food'].value_counts()"
   ]
  },
  {
   "cell_type": "code",
   "execution_count": 30,
   "id": "8a98cbca",
   "metadata": {},
   "outputs": [
    {
     "data": {
      "text/plain": [
       "Confirmed                  6952\n",
       "Pending                    4701\n",
       "Suspected                  3438\n",
       "Confirmed and Suspected      54\n",
       "Name: Status, dtype: int64"
      ]
     },
     "execution_count": 30,
     "metadata": {},
     "output_type": "execute_result"
    }
   ],
   "source": [
    "status = df['Status'].value_counts()\n",
    "status"
   ]
  },
  {
   "cell_type": "code",
   "execution_count": 35,
   "id": "cd0bab95",
   "metadata": {},
   "outputs": [
    {
     "data": {
      "image/png": "[encoded data removed]",
      "text/plain": [
       "<Figure size 700x350 with 1 Axes>"
      ]
     },
     "metadata": {},
     "output_type": "display_data"
    }
   ],
   "source": [
    "plt.figure(figsize=(7,3.5))\n",
    "plt.title('status')\n",
    "plt.bar(['Confirmed','Pending','Suspected','Confirmed and Suspected'],df['Status'].value_counts(),width=0.5)\n",
    "plt.show()"
   ]
  },
  {
   "cell_type": "code",
   "execution_count": 38,
   "id": "9be581f4",
   "metadata": {},
   "outputs": [
    {
     "data": {
      "image/png": "[encoded data removed]",
      "text/plain": [
       "<Figure size 800x800 with 1 Axes>"
      ]
     },
     "metadata": {},
     "output_type": "display_data"
    }
   ],
   "source": [
    "Fatalities = df[df['Fatalities']==1]\n",
    "top_10_state = Fatalities['State'].value_counts()[:10]\n",
    "\n",
    "plt.figure(figsize=(8, 8))\n",
    "plt.title('Top 10 States with Fatalities')\n",
    "plt.pie(top_10_state, autopct='%.2f', labels=top_10_state.index)\n",
    "plt.show()\n"
   ]
  },
  {
   "cell_type": "code",
   "execution_count": null,
   "id": "303f4556",
   "metadata": {},
   "outputs": [],
   "source": []
  }
 ],
 "metadata": {
  "kernelspec": {
   "display_name": "Python 3 (ipykernel)",
   "language": "python",
   "name": "python3"
  },
  "language_info": {
   "codemirror_mode": {
    "name": "ipython",
    "version": 3
   },
   "file_extension": ".py",
   "mimetype": "text/x-python",
   "name": "python",
   "nbconvert_exporter": "python",
   "pygments_lexer": "ipython3",
   "version": "3.11.4"
  }
 },
 "nbformat": 4,
 "nbformat_minor": 5
}
